{
 "cells": [
  {
   "cell_type": "markdown",
   "metadata": {},
   "source": [
    "# Project task 04:  Restaurant ranking"
   ]
  },
  {
   "cell_type": "code",
   "execution_count": 1,
   "metadata": {
    "collapsed": true,
    "pycharm": {
     "is_executing": false
    }
   },
   "outputs": [],
   "source": [
    "import numpy as np\n",
    "import scipy.sparse as sp"
   ]
  },
  {
   "cell_type": "markdown",
   "metadata": {},
   "source": [
    "The goal of this task is to rank restaurants using the **PageRank** algorithm. You are given a directed weighted graph where each node represents one restaurant. The edges in this graph are based on users reviews.\n",
    "\n",
    "Additionally for each restaurant you are given the categories it belongs to, i.e. 'Mexican', 'Italian', etc. Note that each restaurant can belong to multiple categories.\n",
    "\n",
    "Considering these categories as topics you will perform **topic-sensitive PageRank**, enabling you to e.g. find the top 10 'Mexican' restaurants."
   ]
  },
  {
   "cell_type": "markdown",
   "metadata": {},
   "source": [
    "## 1. Load data\n",
    "\n",
    "* The graph is stored as a sparse adjacency matrix $A$\n",
    "* The categories are stored in a binary sparse matrix $C$, with $C_{ij}=1$ indicating that restaurant $i$ belongs to category $j$\n",
    "* We also provide you with a dictionary mapping each category to its corresponding column index in $C$\n",
    "* The name of each restaurant is provided as a list, with the i-th element in the list corresponding to the i-th node in the graph"
   ]
  },
  {
   "cell_type": "code",
   "execution_count": 2,
   "metadata": {
    "pycharm": {
     "is_executing": false
    }
   },
   "outputs": [
    {
     "data": {
      "text/plain": "<7073x7073 sparse matrix of type '<class 'numpy.float64'>'\n\twith 1682844 stored elements in Compressed Sparse Row format>"
     },
     "metadata": {},
     "output_type": "execute_result",
     "execution_count": 2
    }
   ],
   "source": [
    "A = sp.load_npz('restaurant_graph.npz')\n",
    "A"
   ]
  },
  {
   "cell_type": "code",
   "execution_count": 3,
   "outputs": [],
   "source": [
    "#debug. assert that A is column stochastic as we expect\n",
    "row_sum_A = np.sum(A,axis = 1)\n",
    "col_sum_A = np.sum(A,axis = 0)\n"
   ],
   "metadata": {
    "collapsed": false,
    "pycharm": {
     "name": "#%%\n",
     "is_executing": false
    }
   }
  },
  {
   "cell_type": "code",
   "execution_count": 4,
   "metadata": {
    "pycharm": {
     "is_executing": false
    }
   },
   "outputs": [
    {
     "data": {
      "text/plain": "<7073x138 sparse matrix of type '<class 'numpy.float64'>'\n\twith 19047 stored elements in Compressed Sparse Row format>"
     },
     "metadata": {},
     "output_type": "execute_result",
     "execution_count": 4
    }
   ],
   "source": [
    "C = sp.load_npz('restaurant_categories.npz')\n",
    "C"
   ]
  },
  {
   "cell_type": "code",
   "execution_count": 5,
   "metadata": {
    "pycharm": {
     "is_executing": false
    }
   },
   "outputs": [
    {
     "data": {
      "text/plain": "(3, 14)"
     },
     "metadata": {},
     "output_type": "execute_result",
     "execution_count": 5
    }
   ],
   "source": [
    "categories = np.load('categories.npy',allow_pickle=True).tolist()\n",
    "categories['Mexican'], categories['Chinese']"
   ]
  },
  {
   "cell_type": "code",
   "execution_count": 6,
   "metadata": {
    "pycharm": {
     "is_executing": false
    }
   },
   "outputs": [
    {
     "data": {
      "text/plain": "array(['Alize Catering', 'Chula Taberna Mexicana', 'Sunnyside Grill'],\n      dtype='<U50')"
     },
     "metadata": {},
     "output_type": "execute_result",
     "execution_count": 6
    }
   ],
   "source": [
    "names = np.load('restaurant_names.npy')\n",
    "names[:3]"
   ]
  },
  {
   "cell_type": "code",
   "execution_count": 7,
   "metadata": {
    "collapsed": true,
    "pycharm": {
     "is_executing": false
    }
   },
   "outputs": [],
   "source": [
    "assert A.shape[0] == len(names) == C.shape[0]\n",
    "assert C.shape[1] == len(categories)"
   ]
  },
  {
   "cell_type": "markdown",
   "metadata": {},
   "source": [
    " ## 2. Determine the teleport set\n",
    " \n",
    "\n",
    "Given a list of topics of intereset, i.e. `['Mexican', 'Italian', ...]`, implement a helper function to return all the restaurants that belong to **at least one** of these topics. These restaurants will become part of the teleport set in topic-sensitive PageRank."
   ]
  },
  {
   "cell_type": "code",
   "execution_count": 8,
   "metadata": {
    "collapsed": true,
    "pycharm": {
     "is_executing": false
    }
   },
   "outputs": [],
   "source": [
    "def teleport_set(C, topics, categories):\n",
    "    \"\"\"\n",
    "    Finds the teleport set consisting of restaurants that belong to at least one of the specified topics.\n",
    "    \n",
    "    Parameters\n",
    "    ----------\n",
    "    C             : sp.spmatrix, shape [num_restaurants, num_categories]\n",
    "                    Binary matrix encoding which restaurants belongs to which categories.\n",
    "    topics        : List[string]\n",
    "                    List of topics of interest.\n",
    "    categories    : dict(string, int)\n",
    "                    Dictionary mapping each category to its corresponding column index in C.\n",
    "        \n",
    "    Returns\n",
    "    -------\n",
    "    teleport_idx : np.array, shape [S]\n",
    "                   The indicies of the nodes in the teleport set.\n",
    "    \"\"\"\n",
    "    \n",
    "    #code for determining index of categories:\n",
    "    categories_idx = [categories[i] for i in topics]\n",
    "    categories_onehot = np.zeros(C.shape[1])\n",
    "    categories_onehot [categories_idx] =1\n",
    "    \n",
    "    #print('shape of C an dof categories_onehot: %s  ,  %s'%(str(C.shape),str(categories_onehot.reshape(1,-1).shape)))\n",
    "    teleport_idx = C .multiply( categories_onehot.reshape(1,-1)   )\n",
    "    teleport_idx = np.nonzero(teleport_idx)[0] #interested only in the first dimension\n",
    "\n",
    "\n",
    "    return teleport_idx"
   ]
  },
  {
   "cell_type": "code",
   "execution_count": 9,
   "outputs": [
    {
     "name": "stdout",
     "text": [
      "(806,)\n"
     ],
     "output_type": "stream"
    }
   ],
   "source": [
    "dummy = teleport_set(C,['Italian','Mexican'],categories)\n",
    "print(dummy.shape)\n",
    "\n"
   ],
   "metadata": {
    "collapsed": false,
    "pycharm": {
     "name": "#%%\n",
     "is_executing": false
    }
   }
  },
  {
   "cell_type": "markdown",
   "metadata": {},
   "source": [
    " ## 3. Implement topic-sensitive PageRank"
   ]
  },
  {
   "cell_type": "code",
   "execution_count": 10,
   "metadata": {
    "collapsed": true,
    "pycharm": {
     "is_executing": false
    }
   },
   "outputs": [],
   "source": [
    "def page_rank(A, beta, teleport_idx=None, eps=1e-12):\n",
    "    \"\"\"\n",
    "    Implements topic-sensitive PageRank using power iteration and sparse matrix operations.\n",
    "    \n",
    "    Parameters\n",
    "    ----------\n",
    "    A           : sp.spmatrix, shape [num_restaurants, num_restaurants]\n",
    "                  The adjacency matrix representing the graph of restaurants.\n",
    "    beta        : float, \n",
    "                  0 < beta < 1, (1-beta) is the probabilty of teleporting to the nodes in the teleport set\n",
    "    teleport_idx: np.array, shape [S]\n",
    "                  The indicies of the nodes in the teleport set. If it equals to None\n",
    "                  it means runs standard PageRank, i.e. all nodes are in the teleport set.\n",
    "    \n",
    "    Returns\n",
    "    -------\n",
    "    r          : np.array, shape [num_restaurants]\n",
    "                 The page rank vector containing the page rank scores for each restaurant.\n",
    "    \"\"\"\n",
    "    #first create teleport vector\n",
    "    num_restaurants = A.shape[0]\n",
    "    if teleport_idx is not None:\n",
    "        teleport = np.zeros(num_restaurants)\n",
    "        teleport[teleport_idx] = 1.0/teleport_idx.shape[0]\n",
    "    else:\n",
    "        teleport = np.full(num_restaurants, 1.0/num_restaurants)\n",
    "    \n",
    "    \n",
    "    #start with a random normalised vector. Sampling distribution should not matter:\n",
    "    r_old = np.random.rand(num_restaurants)\n",
    "    r_old = r_old/np.linalg.norm(r_old)\n",
    "    \n",
    "    #currently A is not a stochaastic matrix,\n",
    "    # it is just a weighted matrix that needs to be normalised\n",
    "    #lets do that!\n",
    "    A= A.multiply((1./np.sum(A, axis = 0).reshape(1,-1)))\n",
    "    \n",
    "    r = beta *( A.dot(r_old)) + (1-beta) * teleport\n",
    "    \n",
    "    # if teleport_idx is not None:\n",
    "    #     print('Debug.shapes of teleport , r, r_old, A ,teleport_idx = %s,%s,%s,%s,%s'%\n",
    "    #           (str(teleport.shape),str(r.shape),str(r_old.shape),str(A.shape),str(teleport_idx.shape)))\n",
    "    # else:\n",
    "    #     print('Debug.shapes of teleport , r, r_old, A  = %s,%s,%s,%s'%\n",
    "    #           (str(teleport.shape),str(r.shape),str(r_old.shape),str(A.shape)))\n",
    "    \n",
    "    while np.linalg.norm(r-r_old)>eps:\n",
    "        #print(np.linalg.norm(r_old))\n",
    "        r_old = r\n",
    "        r = beta *( A.dot(r_old)) + (1.0-beta) * teleport\n",
    "        \n",
    "    \n",
    "    return r"
   ]
  },
  {
   "cell_type": "markdown",
   "metadata": {},
   "source": [
    "### 3.1 Calculate the standard PageRank scores and print the names of the top 5 restaurants overall"
   ]
  },
  {
   "cell_type": "code",
   "execution_count": 11,
   "metadata": {
    "collapsed": true,
    "pycharm": {
     "is_executing": false
    }
   },
   "outputs": [],
   "source": [
    "idx_to_category = {v:k for k, v in categories.items()}"
   ]
  },
  {
   "cell_type": "code",
   "execution_count": 14,
   "metadata": {
    "pycharm": {
     "is_executing": false
    }
   },
   "outputs": [
    {
     "name": "stdout",
     "text": [
      "1 Congee Me \n",
      "  Categories:  ['Korean']\n",
      "2 Go Go China \n",
      "  Categories:  ['Chinese']\n",
      "3 Sushi Making For the Soul \n",
      "  Categories:  ['Japanese']\n",
      "4 Spring Rolls \n",
      "  Categories:  ['African']\n",
      "5 Happy Tummy Filipino Cuisine \n",
      "  Categories:  ['Chinese']\n"
     ],
     "output_type": "stream"
    }
   ],
   "source": [
    "r = page_rank(A=A, beta=0.6, teleport_idx=None)\n",
    "\n",
    "for i, x in enumerate(r.argsort()[-5:]):\n",
    "    print(i+1, names[x], '\\n  Categories: ', [idx_to_category[cat] for cat in C[x].nonzero()[1]])"
   ]
  },
  {
   "cell_type": "markdown",
   "metadata": {},
   "source": [
    "### 3.2 Calculate the topic-sensitive PageRank scores and print the names of top 5 Mexican restaurants"
   ]
  },
  {
   "cell_type": "code",
   "execution_count": 15,
   "metadata": {
    "pycharm": {
     "is_executing": false
    }
   },
   "outputs": [
    {
     "name": "stdout",
     "text": [
      "1 Chill \n",
      "  Categories:  ['Mexican']\n",
      "2 El Taquito \n",
      "  Categories:  ['Mexican']\n",
      "3 The Atlantic \n",
      "  Categories:  ['Fast Food', 'Mexican']\n",
      "4 Burrito Loco \n",
      "  Categories:  ['Mexican']\n",
      "5 El Takito \n",
      "  Categories:  ['Mexican']\n"
     ],
     "output_type": "stream"
    }
   ],
   "source": [
    "teleport_idx = teleport_set(C, ['Mexican'], categories)\n",
    "r = page_rank(A=A, beta=0.6, teleport_idx=teleport_idx)\n",
    "\n",
    "for i, x in enumerate(r.argsort()[-5:]):\n",
    "    print(i+1, names[x], '\\n  Categories: ', [idx_to_category[cat] for cat in C[x].nonzero()[1]])"
   ]
  },
  {
   "cell_type": "markdown",
   "metadata": {},
   "source": [
    "### 3.3 Calculate the topic-sensitive PageRank scores and print the names of top 5 Italian or French restaurants\n"
   ]
  },
  {
   "cell_type": "code",
   "execution_count": 16,
   "metadata": {
    "pycharm": {
     "is_executing": false
    }
   },
   "outputs": [
    {
     "name": "stdout",
     "text": [
      "1 Ali Baba's Middle Eastern Cuisine \n",
      "  Categories:  ['Sandwiches', 'Pizza', 'Italian']\n",
      "2 New May Hong Yuen BBQ \n",
      "  Categories:  ['Italian']\n",
      "3 Sunnyside Café \n",
      "  Categories:  ['French']\n",
      "4 IPho Vietnamese Cuisine \n",
      "  Categories:  ['Italian']\n",
      "5 McDonald's \n",
      "  Categories:  ['Italian']\n"
     ],
     "output_type": "stream"
    }
   ],
   "source": [
    "teleport_idx = teleport_set(C, ['Italian', 'French'], categories)\n",
    "r = page_rank(A=A, beta=0.6, teleport_idx=teleport_idx)\n",
    "\n",
    "for i, x in enumerate(r.argsort()[-5:]):\n",
    "    print(i+1, names[x], '\\n  Categories: ', [idx_to_category[cat] for cat in C[x].nonzero()[1]])"
   ]
  },
  {
   "cell_type": "code",
   "execution_count": null,
   "metadata": {
    "collapsed": true
   },
   "outputs": [],
   "source": []
  }
 ],
 "metadata": {
  "kernelspec": {
   "display_name": "Python 3",
   "language": "python",
   "name": "python3"
  },
  "language_info": {
   "codemirror_mode": {
    "name": "ipython",
    "version": 3
   },
   "file_extension": ".py",
   "mimetype": "text/x-python",
   "name": "python",
   "nbconvert_exporter": "python",
   "pygments_lexer": "ipython3",
   "version": "3.7.3"
  },
  "pycharm": {
   "stem_cell": {
    "cell_type": "raw",
    "source": [],
    "metadata": {
     "collapsed": false
    }
   }
  }
 },
 "nbformat": 4,
 "nbformat_minor": 2
}